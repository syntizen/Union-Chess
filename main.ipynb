{
  "nbformat": 4,
  "nbformat_minor": 0,
  "metadata": {
    "colab": {
      "provenance": [],
      "authorship_tag": "ABX9TyMRM44ldxVOCjzHVmihmaxo",
      "include_colab_link": true
    },
    "kernelspec": {
      "name": "python3",
      "display_name": "Python 3"
    },
    "language_info": {
      "name": "python"
    }
  },
  "cells": [
    {
      "cell_type": "markdown",
      "metadata": {
        "id": "view-in-github",
        "colab_type": "text"
      },
      "source": [
        "<a href=\"https://colab.research.google.com/github/syntizen/Union-Chess/blob/main/main.ipynb\" target=\"_parent\"><img src=\"https://colab.research.google.com/assets/colab-badge.svg\" alt=\"Open In Colab\"/></a>"
      ]
    },
    {
      "cell_type": "code",
      "execution_count": 3,
      "metadata": {
        "colab": {
          "base_uri": "https://localhost:8080/"
        },
        "id": "tQZsEgWxLxb6",
        "outputId": "f52619ef-042c-4a5b-b68a-a79b669ead5a"
      },
      "outputs": [
        {
          "output_type": "stream",
          "name": "stdout",
          "text": [
            "WR WK WB WQ WK WB WK WR WR WK WB WQ WK WB WK WR WR WK WB WQ WK WB WK WR\n",
            "WP WP WP WP WP WP WP WP WP WP WP WP WP WP WP WP WP WP WP WP WP WP WP WP\n",
            ". . . . . . . . . . . . . . . . . . . . . . . .\n",
            ". . . . . . . . . . . . . . . . . . . . . . . .\n",
            ". . . . . . . . . . . . . . . . . . . . . . . .\n",
            ". . . . . . . . . . . . . . . . . . . . . . . .\n",
            ". . . . . . . . . . . . . . . . . . . . . . . .\n",
            ". . . . . . . . . . . . . . . . . . . . . . . .\n",
            ". . . . . . . . . . . . . . . . . . . . . . . .\n",
            ". . . . . . . . . . . . . . . . . . . . . . . .\n",
            ". . . . . . . . . . . . . . . . . . . . . . . .\n",
            ". . . . . . . . . . . . . . . . . . . . . . . .\n",
            ". . . . . . . . . . . . . . . . . . . . . . . .\n",
            ". . . . . . . . . . . . . . . . . . . . . . . .\n",
            "BP BP BP BP BP BP BP BP BP BP BP BP BP BP BP BP BP BP BP BP BP BP BP BP\n",
            "BR BK BB BK BQ BB BK BR BR BK BB BK BQ BB BK BR BR BK BB BK BQ BB BK BR\n"
          ]
        }
      ],
      "source": [
        "class ChessPiece:\n",
        "    def __init__(self, name, color):\n",
        "        self.name = name\n",
        "        self.color = color\n",
        "\n",
        "    def __str__(self):\n",
        "        return f\"{self.color[0]}{self.name[0]}\"\n",
        "\n",
        "class ChessGame:\n",
        "    def __init__(self):\n",
        "        self.board = self.create_board()\n",
        "\n",
        "    def create_board(self):\n",
        "        # Initialize a 16x24 board with empty spaces\n",
        "        board = [[None for _ in range(24)] for _ in range(16)]\n",
        "\n",
        "        # Setup pieces for White\n",
        "        white_pieces_order = [\"Rook\", \"Knight\", \"Bishop\", \"Queen\", \"King\", \"Bishop\", \"Knight\", \"Rook\"] * 3\n",
        "        for i in range(24):\n",
        "            board[1][i] = ChessPiece(\"Pawn\", \"White\")\n",
        "            board[0][i] = ChessPiece(white_pieces_order[i], \"White\")\n",
        "\n",
        "        # Setup pieces for Black\n",
        "        black_pieces_order = list(reversed(white_pieces_order))\n",
        "        for i in range(24):\n",
        "            board[14][i] = ChessPiece(\"Pawn\", \"Black\")\n",
        "            board[15][i] = ChessPiece(black_pieces_order[i], \"Black\")\n",
        "\n",
        "        return board\n",
        "\n",
        "    def print_board(self):\n",
        "        for row in self.board:\n",
        "            print(\" \".join(str(piece) if piece else '.' for piece in row))\n",
        "\n",
        "# Create a new game and print the board\n",
        "game = ChessGame()\n",
        "game.print_board()\n"
      ]
    },
    {
      "cell_type": "code",
      "source": [
        "import matplotlib.pyplot as plt\n",
        "import matplotlib.patches as patches\n",
        "\n",
        "def draw_chessboard(board):\n",
        "    fig, ax = plt.subplots()\n",
        "    # Define the size of the board\n",
        "    board_size = len(board[0]), len(board)\n",
        "    ax.set_xlim([1, board_size[0]-1])\n",
        "    ax.set_ylim([0, board_size[1]])\n",
        "\n",
        "    # Draw the squares on the board\n",
        "    for x in range(board_size[0]):\n",
        "        for y in range(board_size[1]):\n",
        "            color = 'white' if (x + y) % 2 == 0 else 'gray'\n",
        "            rect = patches.Rectangle((x, y), 1, 1, facecolor=color)\n",
        "            ax.add_patch(rect)\n",
        "\n",
        "            # Add a piece to the board\n",
        "            if board[y][x]:\n",
        "                plt.text(x + 0.5, y + 0.5, str(board[y][x]), fontsize=6, ha='center', va='center')\n",
        "\n",
        "    # Set the aspect of the plot to be equal\n",
        "    ax.set_aspect('equal', adjustable='box')\n",
        "\n",
        "    plt.show()\n",
        "\n",
        "# Create a new game and draw the board\n",
        "game = ChessGame()\n",
        "draw_chessboard(game.board)\n"
      ],
      "metadata": {
        "colab": {
          "base_uri": "https://localhost:8080/",
          "height": 435
        },
        "id": "93LSIKcJMKWz",
        "outputId": "ac9b4772-d42d-4ed9-f7a5-fd67375864bc"
      },
      "execution_count": 10,
      "outputs": [
        {
          "output_type": "display_data",
          "data": {
            "text/plain": [
              "<Figure size 640x480 with 1 Axes>"
            ],
            "image/png": "[encoded data removed]"
          },
          "metadata": {}
        }
      ]
    },
    {
      "cell_type": "code",
      "source": [],
      "metadata": {
        "id": "Vd591ILlMwHo"
      },
      "execution_count": null,
      "outputs": []
    }
  ]
}