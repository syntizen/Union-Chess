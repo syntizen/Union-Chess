{
  "nbformat": 4,
  "nbformat_minor": 0,
  "metadata": {
    "colab": {
      "provenance": [],
      "authorship_tag": "ABX9TyPOlyLWFfsT0EPpx/S1BGrl",
      "include_colab_link": true
    },
    "kernelspec": {
      "name": "python3",
      "display_name": "Python 3"
    },
    "language_info": {
      "name": "python"
    }
  },
  "cells": [
    {
      "cell_type": "markdown",
      "metadata": {
        "id": "view-in-github",
        "colab_type": "text"
      },
      "source": [
        "<a href=\"https://colab.research.google.com/github/syntizen/Union-Chess/blob/main/main.ipynb\" target=\"_parent\"><img src=\"https://colab.research.google.com/assets/colab-badge.svg\" alt=\"Open In Colab\"/></a>"
      ]
    },
    {
      "cell_type": "code",
      "execution_count": null,
      "metadata": {
        "id": "tQZsEgWxLxb6"
      },
      "outputs": [],
      "source": [
        "class ChessPiece:\n",
        "    def __init__(self, name, color):\n",
        "        self.name = name\n",
        "        self.color = color\n",
        "\n",
        "    def __str__(self):\n",
        "        return f\"{self.color[0]}{self.name[0]}\"\n",
        "\n",
        "class ChessGame:\n",
        "    def __init__(self):\n",
        "        self.board = self.create_board()\n",
        "\n",
        "    def create_board(self):\n",
        "        # Initialize a 16x24 board with empty spaces\n",
        "        board = [[None for _ in range(24)] for _ in range(16)]\n",
        "\n",
        "        # Setup pieces for White\n",
        "        white_pieces_order = [\"Rook\", \"Knight\", \"Bishop\", \"Queen\", \"King\", \"Bishop\", \"Knight\", \"Rook\"] * 3\n",
        "        for i in range(24):\n",
        "            board[1][i] = ChessPiece(\"Pawn\", \"White\")\n",
        "            board[0][i] = ChessPiece(white_pieces_order[i], \"White\")\n",
        "\n",
        "        # Setup pieces for Black\n",
        "        black_pieces_order = list(reversed(white_pieces_order))\n",
        "        for i in range(24):\n",
        "            board[14][i] = ChessPiece(\"Pawn\", \"Black\")\n",
        "            board[15][i] = ChessPiece(black_pieces_order[i], \"Black\")\n",
        "\n",
        "        return board\n",
        "\n",
        "    def print_board(self):\n",
        "        for row in the board:\n",
        "            print(\" \".join(str(piece) if piece else '.' for piece in row))\n",
        "\n",
        "# Create a new game and print the board\n",
        "game = ChessGame()\n",
        "game.print_board()\n"
      ]
    }
  ]
}